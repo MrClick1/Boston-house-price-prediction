{
 "cells": [
  {
   "cell_type": "markdown",
   "id": "ea57d1be",
   "metadata": {},
   "source": [
    "回归模型的评估指标:\n",
    "- 均方误差 MSE\n",
    "- 均方根误差\n",
    "- 平均绝对误差\n",
    "- R平方(可决系数) R Square"
   ]
  },
  {
   "cell_type": "markdown",
   "id": "862b09ed",
   "metadata": {},
   "source": [
    "# 多远线性回归\n",
    "单变量线性回归，只有一个自变量X，回归拟合结果是一条直线。\n",
    "\n",
    "多元线性回归，有多个自变量\n",
    "\n",
    "多元线性回归，回归拟合的结果是三维空间中的平面"
   ]
  },
  {
   "cell_type": "markdown",
   "id": "fac61128",
   "metadata": {},
   "source": [
    "# 波士顿房价回归预测数据集"
   ]
  },
  {
   "cell_type": "code",
   "execution_count": 2,
   "id": "6dbc49fd",
   "metadata": {},
   "outputs": [],
   "source": [
    "import pandas as pd\n",
    "import numpy as np\n",
    "\n",
    "from sklearn.model_selection import train_test_split\n",
    "from sklearn.linear_model import LinearRegression\n",
    "from sklearn import metrics\n",
    "import matplotlib.pyplot as plt\n",
    "%matplotlib inline\n",
    "\n",
    "import warnings\n",
    "warnings.filterwarnings('ignore')"
   ]
  },
  {
   "cell_type": "code",
   "execution_count": 5,
   "id": "895831a8",
   "metadata": {},
   "outputs": [],
   "source": [
    "housing_data = pd.read_csv('data/housing.csv')"
   ]
  },
  {
   "cell_type": "code",
   "execution_count": 7,
   "id": "b0a55dbd",
   "metadata": {},
   "outputs": [
    {
     "data": {
      "text/html": [
       "<div>\n",
       "<style scoped>\n",
       "    .dataframe tbody tr th:only-of-type {\n",
       "        vertical-align: middle;\n",
       "    }\n",
       "\n",
       "    .dataframe tbody tr th {\n",
       "        vertical-align: top;\n",
       "    }\n",
       "\n",
       "    .dataframe thead th {\n",
       "        text-align: right;\n",
       "    }\n",
       "</style>\n",
       "<table border=\"1\" class=\"dataframe\">\n",
       "  <thead>\n",
       "    <tr style=\"text-align: right;\">\n",
       "      <th></th>\n",
       "      <th>CRIM</th>\n",
       "      <th>ZN</th>\n",
       "      <th>INDUS</th>\n",
       "      <th>CHAS</th>\n",
       "      <th>NOX</th>\n",
       "      <th>RM</th>\n",
       "      <th>AGE</th>\n",
       "      <th>DIS</th>\n",
       "      <th>RAD</th>\n",
       "      <th>TAX</th>\n",
       "      <th>PIRATIO</th>\n",
       "      <th>B</th>\n",
       "      <th>LSTAT</th>\n",
       "      <th>MEDV</th>\n",
       "    </tr>\n",
       "  </thead>\n",
       "  <tbody>\n",
       "    <tr>\n",
       "      <th>0</th>\n",
       "      <td>0.00632</td>\n",
       "      <td>18.0</td>\n",
       "      <td>2.31</td>\n",
       "      <td>0</td>\n",
       "      <td>0.538</td>\n",
       "      <td>6.575</td>\n",
       "      <td>65.2</td>\n",
       "      <td>4.0900</td>\n",
       "      <td>1</td>\n",
       "      <td>296.0</td>\n",
       "      <td>15.3</td>\n",
       "      <td>396.90</td>\n",
       "      <td>4.98</td>\n",
       "      <td>24.0</td>\n",
       "    </tr>\n",
       "    <tr>\n",
       "      <th>1</th>\n",
       "      <td>0.02731</td>\n",
       "      <td>0.0</td>\n",
       "      <td>7.07</td>\n",
       "      <td>0</td>\n",
       "      <td>0.469</td>\n",
       "      <td>6.421</td>\n",
       "      <td>78.9</td>\n",
       "      <td>4.9671</td>\n",
       "      <td>2</td>\n",
       "      <td>242.0</td>\n",
       "      <td>17.8</td>\n",
       "      <td>396.90</td>\n",
       "      <td>9.14</td>\n",
       "      <td>21.6</td>\n",
       "    </tr>\n",
       "    <tr>\n",
       "      <th>2</th>\n",
       "      <td>0.02729</td>\n",
       "      <td>0.0</td>\n",
       "      <td>7.07</td>\n",
       "      <td>0</td>\n",
       "      <td>0.469</td>\n",
       "      <td>7.185</td>\n",
       "      <td>61.1</td>\n",
       "      <td>4.9671</td>\n",
       "      <td>2</td>\n",
       "      <td>242.0</td>\n",
       "      <td>17.8</td>\n",
       "      <td>392.83</td>\n",
       "      <td>4.03</td>\n",
       "      <td>34.7</td>\n",
       "    </tr>\n",
       "    <tr>\n",
       "      <th>3</th>\n",
       "      <td>0.03237</td>\n",
       "      <td>0.0</td>\n",
       "      <td>2.18</td>\n",
       "      <td>0</td>\n",
       "      <td>0.458</td>\n",
       "      <td>6.998</td>\n",
       "      <td>45.8</td>\n",
       "      <td>6.0622</td>\n",
       "      <td>3</td>\n",
       "      <td>222.0</td>\n",
       "      <td>18.7</td>\n",
       "      <td>394.63</td>\n",
       "      <td>2.94</td>\n",
       "      <td>33.4</td>\n",
       "    </tr>\n",
       "    <tr>\n",
       "      <th>4</th>\n",
       "      <td>0.06905</td>\n",
       "      <td>0.0</td>\n",
       "      <td>2.18</td>\n",
       "      <td>0</td>\n",
       "      <td>0.458</td>\n",
       "      <td>7.147</td>\n",
       "      <td>54.2</td>\n",
       "      <td>6.0622</td>\n",
       "      <td>3</td>\n",
       "      <td>222.0</td>\n",
       "      <td>18.7</td>\n",
       "      <td>396.90</td>\n",
       "      <td>5.33</td>\n",
       "      <td>36.2</td>\n",
       "    </tr>\n",
       "  </tbody>\n",
       "</table>\n",
       "</div>"
      ],
      "text/plain": [
       "      CRIM    ZN  INDUS  CHAS    NOX     RM   AGE     DIS  RAD    TAX  \\\n",
       "0  0.00632  18.0   2.31     0  0.538  6.575  65.2  4.0900    1  296.0   \n",
       "1  0.02731   0.0   7.07     0  0.469  6.421  78.9  4.9671    2  242.0   \n",
       "2  0.02729   0.0   7.07     0  0.469  7.185  61.1  4.9671    2  242.0   \n",
       "3  0.03237   0.0   2.18     0  0.458  6.998  45.8  6.0622    3  222.0   \n",
       "4  0.06905   0.0   2.18     0  0.458  7.147  54.2  6.0622    3  222.0   \n",
       "\n",
       "   PIRATIO       B  LSTAT  MEDV  \n",
       "0     15.3  396.90   4.98  24.0  \n",
       "1     17.8  396.90   9.14  21.6  \n",
       "2     17.8  392.83   4.03  34.7  \n",
       "3     18.7  394.63   2.94  33.4  \n",
       "4     18.7  396.90   5.33  36.2  "
      ]
     },
     "execution_count": 7,
     "metadata": {},
     "output_type": "execute_result"
    }
   ],
   "source": [
    "housing_data.head()"
   ]
  },
  {
   "cell_type": "markdown",
   "id": "db194511",
   "metadata": {},
   "source": [
    "CRIM: Per capita crime rate by town. 人均犯罪率，表示每个城镇的人均犯罪数量。\n",
    "\n",
    "ZN: Proportion of residential land zoned for lots over 25,000 sq.ft. 占地面积超过25,000平方英尺的住宅用地比例。\n",
    "\n",
    "INDUS: Proportion of non-retail business acres per town. 非零售商业用地的比例。\n",
    "\n",
    "CHAS: Charles River dummy variable (= 1 if tract bounds river; 0 otherwise). 查尔斯河虚拟变量，如果地块边界靠近河流，则为1；否则为0。\n",
    "\n",
    "NOX: Nitric oxide concentration (parts per 10 million). 一氧化氮浓度，以每千万份中的部分来计量。\n",
    "\n",
    "RM: Average number of rooms per dwelling. 每个住宅的平均房间数量。\n",
    "\n",
    "AGE: Proportion of owner-occupied units built prior to 1940. 1940年以前建造的所有者占用单位的比例。\n",
    "\n",
    "DIS: Weighted mean of distances to five Boston employment centres. 到波士顿五个就业中心的加权平均距离。\n",
    "\n",
    "RAD: Index of accessibility to radial highways. 辐射高速公路的可达性指数。\n",
    "\n",
    "TAX: Full-value property-tax rate per $10,000. 每10,000美元的全额物业税率。\n",
    "\n",
    "PTRATIO: Pupil-teacher ratio by town. 城镇的学生与教师比率。\n",
    "\n",
    "B: 1000(Bk - 0.63)^2 where Bk is the proportion of black people by town. 1000乘以（城镇黑人比例减去0.63的平方），反映了城镇种族构成的影响。\n",
    "\n",
    "LSTAT: Lower status of the population. 较低社会地位的人口比例。\n",
    "\n",
    "MEDV: Median value of owner-occupied homes in $1000's. 自住房的中位价，以千美元计。"
   ]
  },
  {
   "cell_type": "code",
   "execution_count": 13,
   "id": "a65f9198",
   "metadata": {},
   "outputs": [],
   "source": [
    "X = housing_data.drop(['MEDV'], axis = 1)    # 矩阵用大写字母表示"
   ]
  },
  {
   "cell_type": "code",
   "execution_count": 9,
   "id": "f3e80266",
   "metadata": {},
   "outputs": [],
   "source": [
    "y = housing_data['MEDV']"
   ]
  },
  {
   "cell_type": "code",
   "execution_count": 10,
   "id": "95b1494b",
   "metadata": {},
   "outputs": [],
   "source": [
    "X_train, X_test, y_train, y_test = train_test_split(X, y, random_state=0)    # sklearn库中的train_test_split函数将数据集分割为训练集和测试集"
   ]
  },
  {
   "cell_type": "code",
   "execution_count": 11,
   "id": "546151f3",
   "metadata": {},
   "outputs": [],
   "source": [
    "model = LinearRegression()"
   ]
  },
  {
   "cell_type": "code",
   "execution_count": 12,
   "id": "fabd6a3a",
   "metadata": {},
   "outputs": [
    {
     "data": {
      "text/html": [
       "<style>#sk-container-id-1 {color: black;}#sk-container-id-1 pre{padding: 0;}#sk-container-id-1 div.sk-toggleable {background-color: white;}#sk-container-id-1 label.sk-toggleable__label {cursor: pointer;display: block;width: 100%;margin-bottom: 0;padding: 0.3em;box-sizing: border-box;text-align: center;}#sk-container-id-1 label.sk-toggleable__label-arrow:before {content: \"▸\";float: left;margin-right: 0.25em;color: #696969;}#sk-container-id-1 label.sk-toggleable__label-arrow:hover:before {color: black;}#sk-container-id-1 div.sk-estimator:hover label.sk-toggleable__label-arrow:before {color: black;}#sk-container-id-1 div.sk-toggleable__content {max-height: 0;max-width: 0;overflow: hidden;text-align: left;background-color: #f0f8ff;}#sk-container-id-1 div.sk-toggleable__content pre {margin: 0.2em;color: black;border-radius: 0.25em;background-color: #f0f8ff;}#sk-container-id-1 input.sk-toggleable__control:checked~div.sk-toggleable__content {max-height: 200px;max-width: 100%;overflow: auto;}#sk-container-id-1 input.sk-toggleable__control:checked~label.sk-toggleable__label-arrow:before {content: \"▾\";}#sk-container-id-1 div.sk-estimator input.sk-toggleable__control:checked~label.sk-toggleable__label {background-color: #d4ebff;}#sk-container-id-1 div.sk-label input.sk-toggleable__control:checked~label.sk-toggleable__label {background-color: #d4ebff;}#sk-container-id-1 input.sk-hidden--visually {border: 0;clip: rect(1px 1px 1px 1px);clip: rect(1px, 1px, 1px, 1px);height: 1px;margin: -1px;overflow: hidden;padding: 0;position: absolute;width: 1px;}#sk-container-id-1 div.sk-estimator {font-family: monospace;background-color: #f0f8ff;border: 1px dotted black;border-radius: 0.25em;box-sizing: border-box;margin-bottom: 0.5em;}#sk-container-id-1 div.sk-estimator:hover {background-color: #d4ebff;}#sk-container-id-1 div.sk-parallel-item::after {content: \"\";width: 100%;border-bottom: 1px solid gray;flex-grow: 1;}#sk-container-id-1 div.sk-label:hover label.sk-toggleable__label {background-color: #d4ebff;}#sk-container-id-1 div.sk-serial::before {content: \"\";position: absolute;border-left: 1px solid gray;box-sizing: border-box;top: 0;bottom: 0;left: 50%;z-index: 0;}#sk-container-id-1 div.sk-serial {display: flex;flex-direction: column;align-items: center;background-color: white;padding-right: 0.2em;padding-left: 0.2em;position: relative;}#sk-container-id-1 div.sk-item {position: relative;z-index: 1;}#sk-container-id-1 div.sk-parallel {display: flex;align-items: stretch;justify-content: center;background-color: white;position: relative;}#sk-container-id-1 div.sk-item::before, #sk-container-id-1 div.sk-parallel-item::before {content: \"\";position: absolute;border-left: 1px solid gray;box-sizing: border-box;top: 0;bottom: 0;left: 50%;z-index: -1;}#sk-container-id-1 div.sk-parallel-item {display: flex;flex-direction: column;z-index: 1;position: relative;background-color: white;}#sk-container-id-1 div.sk-parallel-item:first-child::after {align-self: flex-end;width: 50%;}#sk-container-id-1 div.sk-parallel-item:last-child::after {align-self: flex-start;width: 50%;}#sk-container-id-1 div.sk-parallel-item:only-child::after {width: 0;}#sk-container-id-1 div.sk-dashed-wrapped {border: 1px dashed gray;margin: 0 0.4em 0.5em 0.4em;box-sizing: border-box;padding-bottom: 0.4em;background-color: white;}#sk-container-id-1 div.sk-label label {font-family: monospace;font-weight: bold;display: inline-block;line-height: 1.2em;}#sk-container-id-1 div.sk-label-container {text-align: center;}#sk-container-id-1 div.sk-container {/* jupyter's `normalize.less` sets `[hidden] { display: none; }` but bootstrap.min.css set `[hidden] { display: none !important; }` so we also need the `!important` here to be able to override the default hidden behavior on the sphinx rendered scikit-learn.org. See: https://github.com/scikit-learn/scikit-learn/issues/21755 */display: inline-block !important;position: relative;}#sk-container-id-1 div.sk-text-repr-fallback {display: none;}</style><div id=\"sk-container-id-1\" class=\"sk-top-container\"><div class=\"sk-text-repr-fallback\"><pre>LinearRegression()</pre><b>In a Jupyter environment, please rerun this cell to show the HTML representation or trust the notebook. <br />On GitHub, the HTML representation is unable to render, please try loading this page with nbviewer.org.</b></div><div class=\"sk-container\" hidden><div class=\"sk-item\"><div class=\"sk-estimator sk-toggleable\"><input class=\"sk-toggleable__control sk-hidden--visually\" id=\"sk-estimator-id-1\" type=\"checkbox\" checked><label for=\"sk-estimator-id-1\" class=\"sk-toggleable__label sk-toggleable__label-arrow\">LinearRegression</label><div class=\"sk-toggleable__content\"><pre>LinearRegression()</pre></div></div></div></div></div>"
      ],
      "text/plain": [
       "LinearRegression()"
      ]
     },
     "execution_count": 12,
     "metadata": {},
     "output_type": "execute_result"
    }
   ],
   "source": [
    "model.fit(X_train, y_train)    # 拟合"
   ]
  },
  {
   "cell_type": "code",
   "execution_count": 14,
   "id": "fd757845",
   "metadata": {},
   "outputs": [],
   "source": [
    "y_pred_class = model.predict(X_test)"
   ]
  },
  {
   "cell_type": "code",
   "execution_count": 15,
   "id": "0654a936",
   "metadata": {},
   "outputs": [
    {
     "data": {
      "text/plain": [
       "array([24.95233283, 23.61699724, 29.20588553, 11.96070515, 21.33362042,\n",
       "       19.46954895, 20.42228421, 21.52044058, 18.98954101, 19.950983  ,\n",
       "        4.92468244, 16.09694058, 16.93599574,  5.33508402, 39.84434398,\n",
       "       32.33549843, 22.32772572, 36.54017819, 31.03300611, 23.32172503,\n",
       "       24.92086498, 24.26106474, 20.71504422, 30.45072552, 22.45009234,\n",
       "        9.87470006, 17.70324412, 17.974775  , 35.69932012, 20.7940972 ,\n",
       "       18.10554174, 17.68317865, 19.71354713, 23.79693873, 29.06528958,\n",
       "       19.23738284, 10.97815878, 24.56199978, 17.32913052, 15.20340817,\n",
       "       26.09337458, 20.87706795, 22.26187518, 15.32582693, 22.85847963,\n",
       "       25.08887173, 19.74138819, 22.70744911,  9.66708558, 24.46175926,\n",
       "       20.72654169, 17.52545047, 24.45596997, 30.10668865, 13.31250981,\n",
       "       21.52052342, 20.65642932, 15.34285652, 13.7741129 , 22.07429287,\n",
       "       17.53293957, 21.60707766, 32.91050188, 31.32796114, 17.64346364,\n",
       "       32.69909854, 18.56579207, 19.32110821, 18.81256692, 23.04351442,\n",
       "       22.81649956, 23.99800754, 30.62733254, 28.8662207 , 25.78198145,\n",
       "        5.00689605, 36.83409088, 23.80490328, 27.36965299, 19.33057146,\n",
       "       28.51439846, 19.19147448, 18.81694283, 37.94245021, 39.3441055 ,\n",
       "       23.90759744, 24.95985846, 15.70262358, 25.92060968, 16.56968829,\n",
       "       15.76303806, 12.89190083, 24.4389405 , 30.9319885 , 22.36798609,\n",
       "       20.17628607,  0.22819711, 25.26459847, 15.35369364, 17.7983399 ,\n",
       "       25.44689554, 22.46612234, 32.57911019, 22.01436262, 27.37542798,\n",
       "       23.31348039,  6.29811532, 14.75925592, 22.44945223, 29.11172812,\n",
       "       32.97160856, 12.85457141, 19.79963356, 20.60017439, 12.06928939,\n",
       "       23.38532482,  4.75243811, 19.8342911 ,  9.17555571, 44.63299931,\n",
       "       30.63144603, 12.29971299, 17.53804831, 21.50222331, 23.63281301,\n",
       "       20.28259817, 35.17973368])"
      ]
     },
     "execution_count": 15,
     "metadata": {},
     "output_type": "execute_result"
    }
   ],
   "source": [
    "y_pred_class"
   ]
  },
  {
   "cell_type": "markdown",
   "id": "ca019af5",
   "metadata": {},
   "source": [
    "# Mean Absolute Error 平均绝对误差\n",
    "- 计算预测值与真实值之间的绝对值之差"
   ]
  },
  {
   "cell_type": "code",
   "execution_count": 17,
   "id": "2fa2595c",
   "metadata": {},
   "outputs": [
    {
     "data": {
      "text/plain": [
       "3.6683301481357242"
      ]
     },
     "execution_count": 17,
     "metadata": {},
     "output_type": "execute_result"
    }
   ],
   "source": [
    "metrics.mean_absolute_error(y_test, y_pred_class)"
   ]
  },
  {
   "cell_type": "markdown",
   "id": "0bbb50ee",
   "metadata": {},
   "source": [
    "# Mean Squared Error 均方误差\n",
    "- 计算MSE之前必须去掉所有缺失值"
   ]
  },
  {
   "cell_type": "code",
   "execution_count": 18,
   "id": "55d2528c",
   "metadata": {},
   "outputs": [
    {
     "data": {
      "text/plain": [
       "29.782245092302468"
      ]
     },
     "execution_count": 18,
     "metadata": {},
     "output_type": "execute_result"
    }
   ],
   "source": [
    "metrics.mean_squared_error(y_test, y_pred_class)"
   ]
  },
  {
   "cell_type": "markdown",
   "id": "a143f6f1",
   "metadata": {},
   "source": [
    "# Mean Squred Error 均方误差\n",
    "- 计算MSE之前必须去掉所有缺失值"
   ]
  },
  {
   "cell_type": "code",
   "execution_count": 19,
   "id": "07339b86",
   "metadata": {},
   "outputs": [
    {
     "data": {
      "text/plain": [
       "29.782245092302468"
      ]
     },
     "execution_count": 19,
     "metadata": {},
     "output_type": "execute_result"
    }
   ],
   "source": [
    "metrics.mean_squared_error(y_test, y_pred_class)"
   ]
  },
  {
   "cell_type": "markdown",
   "id": "24c4f03d",
   "metadata": {},
   "source": [
    "# RMSE 均方根误差\n",
    "- \n",
    "- \n",
    "- \n",
    "- "
   ]
  },
  {
   "cell_type": "code",
   "execution_count": 21,
   "id": "dc38dd30",
   "metadata": {},
   "outputs": [
    {
     "name": "stdout",
     "output_type": "stream",
     "text": [
      "5.457311159564064\n"
     ]
    }
   ],
   "source": [
    "from math import sqrt\n",
    "\n",
    "print(sqrt(metrics.mean_squared_error(y_test, y_pred_class)))"
   ]
  },
  {
   "cell_type": "markdown",
   "id": "606cbedc",
   "metadata": {},
   "source": [
    "# Root Mean Sqaured Logarithmic Error 均方根对数误差"
   ]
  },
  {
   "cell_type": "code",
   "execution_count": 23,
   "id": "8fae27ce",
   "metadata": {},
   "outputs": [
    {
     "data": {
      "text/plain": [
       "0.10011074434044048"
      ]
     },
     "execution_count": 23,
     "metadata": {},
     "output_type": "execute_result"
    }
   ],
   "source": [
    "metrics.mean_squared_log_error(y_test, y_pred_class)"
   ]
  },
  {
   "cell_type": "markdown",
   "id": "d136c760",
   "metadata": {},
   "source": [
    "# R_squared R平方(可决系数)"
   ]
  },
  {
   "cell_type": "code",
   "execution_count": 24,
   "id": "0d50810c",
   "metadata": {},
   "outputs": [
    {
     "data": {
      "text/plain": [
       "0.6354638433202117"
      ]
     },
     "execution_count": 24,
     "metadata": {},
     "output_type": "execute_result"
    }
   ],
   "source": [
    "metrics.r2_score(y_test, y_pred_class)"
   ]
  },
  {
   "cell_type": "markdown",
   "id": "3e6f599f",
   "metadata": {},
   "source": [
    "# Adjusted R-Squared 修正R平方"
   ]
  },
  {
   "cell_type": "code",
   "execution_count": null,
   "id": "187ab1a2",
   "metadata": {},
   "outputs": [],
   "source": []
  }
 ],
 "metadata": {
  "kernelspec": {
   "display_name": "Python 3 (ipykernel)",
   "language": "python",
   "name": "python3"
  },
  "language_info": {
   "codemirror_mode": {
    "name": "ipython",
    "version": 3
   },
   "file_extension": ".py",
   "mimetype": "text/x-python",
   "name": "python",
   "nbconvert_exporter": "python",
   "pygments_lexer": "ipython3",
   "version": "3.11.5"
  }
 },
 "nbformat": 4,
 "nbformat_minor": 5
}
